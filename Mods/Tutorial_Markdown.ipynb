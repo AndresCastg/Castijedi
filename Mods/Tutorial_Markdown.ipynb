{
 "cells": [
  {
   "cell_type": "markdown",
   "metadata": {},
   "source": [
    "# Tutorial de Markdown\n",
    "##### Este tutorial ha sido sacado de https://markdown.es/sintaxis-markdown/ .  \n",
    "   \n",
    "  \n",
    "  \n",
    "\n",
    "Antes de comenzar tengo que decir que en este [video][tutorial] el autor explica el contenido de este notebook en menos de 5 minutos. Así pues, el objetivo principal de este tutorial es ver cómo funciona esta sintaxis en Jupyter al trabajar, como ahorita, en celdas de tipo Markdown. \n",
    "\n",
    "Recuerda que también podemos usar sintaxis de LateX y generar texto de la forma $c^2 = a^2 + b^2$\n",
    "\n",
    "***\n",
    "\n",
    "[tutorial]: https://www.youtube.com/watch?v=y6XdzBNC0_0"
   ]
  },
  {
   "cell_type": "markdown",
   "metadata": {},
   "source": [
    "Primero un ejemplo:\n",
    "\n",
    "## Título\n",
    "### Subtítulo\n",
    "Este es un ejemplo de texto que da entrada a una lista genérica de elementos:  \n",
    "\n",
    "- Elemento 1\n",
    "- Elemento 2\n",
    "- Elemento 3\n",
    "\n",
    "Este es un ejemplo de texto que da entrada a una lista numerada:\n",
    "\n",
    "1. Elemento 1\n",
    "2. Elemento 2\n",
    "3. Elemento 3\n",
    "\n",
    "Al texto en Markdown puedes añadirle formato como **negrita** o *cursiva* de una manera muy sencilla. ***Incluso combinarlas***\n",
    "\n",
    "***"
   ]
  },
  {
   "cell_type": "markdown",
   "metadata": {},
   "source": [
    "# Elementos de Bloque\n",
    "## Párrafos y salto de línea\n",
    "\n",
    "Para generar un nuevo párrafo en Markdown simplemente separa el texto mediante una línea en blanco (pulsando dos veces intro)\n",
    "\n",
    "Al igual que sucede con HTML, Markdown no soporta dobles líneas en blanco, así que si intentas generarlas estas se convertirán en una sola al procesarse.\n",
    "\n",
    "Para realizar un salto de línea y empezar una frase en una línea siguiente dentro del mismo párrafo, tendrás que pulsar dos veces la barra espaciadora antes de pulsar una vez intro.\n",
    "\n",
    "Por ejemplo si quisieses escribir un poema Haiku quedaría tal que así:\n",
    "\n",
    "“Andando con sus patitas mojadas,    \n",
    "el gorrión  \n",
    "por la terraza de madera”\n",
    "\n",
    "Donde cada verso tiene dos espacios en blanco al final."
   ]
  },
  {
   "cell_type": "markdown",
   "metadata": {},
   "source": [
    "# Encabezados\n",
    "\n",
    "Las `#` **almohadillas** se usan para crear encabezados, usando uno en cada nivel."
   ]
  },
  {
   "cell_type": "markdown",
   "metadata": {},
   "source": [
    "# Título 1\n",
    "## Título 2\n",
    "### Título 3\n",
    "#### Título 4\n",
    "##### Título 5"
   ]
  },
  {
   "cell_type": "markdown",
   "metadata": {},
   "source": [
    "Existe otra manera de generar encabezados, aunque este método está limitado a dos niveles.\n",
    "\n",
    "Consiste en subrayar los encabezados con el símbolo `=` (para el encabezado 1), o con guiones `-` para el encabezado 2.  \n",
    "Es decir,\n",
    "~~~\n",
    "Esto sería un encabezado 1\n",
    "===\n",
    "\n",
    "Esto sería un encabezado 2\n",
    "---\n",
    "~~~\n",
    "\n",
    "No existe un número concreto de `=` o `-`que necesites escribir para que esto funcione\n",
    "\n",
    "***"
   ]
  },
  {
   "cell_type": "markdown",
   "metadata": {},
   "source": [
    "\n",
    "# Citas\n",
    "\n",
    "Las citas se generan usando el caracter mayor que `>` al comienzo del bloque de texto.\n"
   ]
  },
  {
   "cell_type": "markdown",
   "metadata": {},
   "source": [
    ">Un país, una civilización se puede juzgar por la forma en que trata a sus animales.  — Mahatma Gandhi"
   ]
  },
  {
   "cell_type": "markdown",
   "metadata": {},
   "source": [
    "Si la cita en cuestión se compone de varios párrafos, deberás añadir el mismo símbolo `>` al comienzo de cada uno de ellos."
   ]
  },
  {
   "cell_type": "markdown",
   "metadata": {},
   "source": [
    "> Creo que los animales ven en el hombre un ser igual a ellos que ha perdido de forma extraordinariamente peligrosa el sano intelecto animal.\n",
    "\n",
    "> Es decir, que ven en él al animal irracional, al animal que ríe, al animal que llora, al animal infeliz. — Friedrich Nietzsche"
   ]
  },
  {
   "cell_type": "markdown",
   "metadata": {},
   "source": [
    "> Esto sería una cita como la que acabas de ver.\n",
    "> \n",
    "> > Dentro de ella puedes anidar otra cita.\n",
    "> \n",
    "> La cita principal llegaría hasta aquí. \n",
    "\n",
    "****"
   ]
  },
  {
   "cell_type": "markdown",
   "metadata": {},
   "source": [
    "# Listas\n",
    "\n",
    "A diferencia de lo que ocurre en HTML, generar listas en Markdown es tremendamente sencillo. Puedes encontrarte con dos tipos.\n",
    "#### Listas desordenadas.\n",
    "\n",
    "Para crear listas desordenadas utiliza `*` asteriscos, `-` guiones, o `+` símbolo de suma.\n",
    "\n",
    "~~~\n",
    "- Elemento de lista 1\n",
    "- Elemento de lista 2\n",
    "* Elemento de lista 3\n",
    "* Elemento de lista 4\n",
    "+ Elemento de lista 5\n",
    "+ Elemento de lista 6\n",
    "~~~\n",
    "\n",
    "Da igual qué elemento escojas, incluso puedes intercambiarlos. Todos se verán igual al procesarse.\n",
    "\n",
    "\n"
   ]
  },
  {
   "cell_type": "markdown",
   "metadata": {},
   "source": [
    "- Elemento de lista 1\n",
    "- Elemento de lista 2\n",
    "* Elemento de lista 3\n",
    "* Elemento de lista 4\n",
    "+ Elemento de lista 5\n",
    "+ Elemento de lista 6"
   ]
  },
  {
   "cell_type": "markdown",
   "metadata": {},
   "source": [
    "Para generar listas anidadas dentro de otras, simplemente tendrás que añadir cuatro espacios en blanco antes del siguiente `*`, `-` o `+`.\n",
    "~~~\n",
    "- Elemento de lista 1\n",
    "- Elemento de lista 2\n",
    "    - Elemento de lista 3\n",
    "    - Elemento de lista 4\n",
    "        - Elemento de lista 5\n",
    "        - Elemento de lista 6\n",
    "~~~"
   ]
  },
  {
   "cell_type": "markdown",
   "metadata": {},
   "source": [
    "- Elemento de lista 1\n",
    "- Elemento de lista 2\n",
    "    - Elemento de lista 3\n",
    "    - Elemento de lista 4\n",
    "        - Elemento de lista 5\n",
    "        - Elemento de lista 6"
   ]
  },
  {
   "cell_type": "markdown",
   "metadata": {},
   "source": [
    "***\n",
    "#### Listas ordenadas\n",
    "Para crear listas ordenadas debes utilizar la sintaxis de tipo: “número.” `1.`. Al igual que ocurre con las listas desordenadas, también podrás anidarlas o combinarlas.\n",
    "~~~\n",
    "1. Elemento de lista 1\n",
    "2.  Elemento de lista 2\n",
    "    - Elemento de lista 3\n",
    "    - Elemento de lista 4\n",
    "        1. Elemento de lista 5\n",
    "        2. Elemento de lista 6\n",
    "~~~\n",
    "\n",
    "1. Elemento de lista 1\n",
    "2.  Elemento de lista 2\n",
    "    - Elemento de lista 3\n",
    "    - Elemento de lista 4\n",
    "        1. Elemento de lista 5\n",
    "        2. Elemento de lista 6"
   ]
  },
  {
   "cell_type": "markdown",
   "metadata": {},
   "source": [
    "***\n",
    "### Reglas horizontales\n",
    "Las reglas horizontales se utilizan para separar secciones de una manera visual. Las estás viendo constantemente en este artículo ya que las estoy utilizando para separar los diferentes elementos de sintaxis de Markdown.\n",
    "\n",
    "Para crearlas, en una línea en blanco deberás incluir tres de los siguientes elementos: asteriscos, guiones, o guiones bajos.\n",
    "\n",
    "Es decir\n",
    "~~~\n",
    "***\n",
    "---\n",
    "___\n",
    "~~~\n",
    "\n",
    "***"
   ]
  },
  {
   "cell_type": "markdown",
   "metadata": {},
   "source": [
    "# Links o enlaces en línea\n",
    "\n",
    "Son los enlaces de toda la vida. Como su nombre indica, se encuentran en línea con el texto.\n",
    "\n",
    "Se crean escribiendo la palabra o texto enlazada entre `[]` corchetes, y el link en cuestión entre `()` paréntesis.\n",
    "`[Google](http://www.google.com)` \n",
    "\n",
    "Ejemplo: [Google](http://www.limni.net)"
   ]
  },
  {
   "cell_type": "markdown",
   "metadata": {},
   "source": [
    "## Links o enlaces como referencia\n",
    "La desventaja del método anterior, es que si utilizas links demasiado complejos o largos pueden dificultarte la lectura de tu texto.\n",
    "\n",
    "Para solucionarlo y crear tu contenido de una manera más ordenada puedes generar enlaces de referencia.\n",
    "\n",
    "Esto quiere decir que en tu texto enlazarás palabras o códigos concretos (formados por letras y/o números), que en otro lugar más apartado de tu documento tendrás definidos como determinadas URL.\n",
    "~~~\n",
    "\n",
    "[nombre que quieres darle a tu enlace][nombre de tu referencia]\n",
    "\n",
    "[nombre de tu referencia]: http:www.tuenlace.com\n",
    "\n",
    "~~~\n",
    "\n",
    "\n",
    "Esto se ve más claro con un ejemplo.\n",
    "~~~\n",
    "\n",
    "Me llamo Javier Cristóbal y tengo un blog sobre [productividad mac][blog].\n",
    "\n",
    "En dicha [web][blog] recopilo artículos sobre todo lo relacionado con automatización, gestión y eficiencia.\n",
    "\n",
    "[blog]: http://limni.net/blog/\n",
    "\n",
    "~~~\n",
    "\n",
    "La referencia `[blog]` puede estar incluida en cualquier parte del documento, así puedes organizarte mejor y de una manera más limpia, recopilando todas tus referencias en un mismo lugar. En Markdown luciría así:\n",
    "\n",
    "Me llamo Javier Cristóbal y tengo un blog sobre [productividad mac][blog].\n",
    "\n",
    "En dicha [web][blog] recopilo artículos sobre todo lo relacionado con automatización, gestión y eficiencia.\n",
    "\n",
    "[blog]: http://limni.net/blog/\n",
    "***"
   ]
  },
  {
   "cell_type": "markdown",
   "metadata": {},
   "source": [
    "## Imágenes\n",
    "Insertar una imagen con Markdown se realiza de una manera prácticamente idéntica a insertar links.\n",
    "\n",
    "Solo que en este caso, deberás añadir un símbolo de `!` exclamación al principio y el enlace no será otro que la ubicación de la imagen.\n",
    "\n",
    "`![Texto alternativo](/ruta/a/la/imagen.jpg)`\n",
    "\n",
    "El *texto alternativo* es lo que se mostraría si la carga de la imagen fallase.\n",
    "\n",
    "También podrás añadir un título alternativo entrecomillándolo al final de la ruta. Esto sería el título mostrado al dejar el cursor del ratón sobre la imagen.\n",
    "\n",
    "`![Texto alternativo](/ruta/a/la/imagen.jpg \"Título alternativo\")`"
   ]
  },
  {
   "cell_type": "code",
   "execution_count": null,
   "metadata": {},
   "outputs": [],
   "source": []
  }
 ],
 "metadata": {
  "kernelspec": {
   "display_name": "Python 3",
   "language": "python",
   "name": "python3"
  },
  "language_info": {
   "codemirror_mode": {
    "name": "ipython",
    "version": 3
   },
   "file_extension": ".py",
   "mimetype": "text/x-python",
   "name": "python",
   "nbconvert_exporter": "python",
   "pygments_lexer": "ipython3",
   "version": "3.6.5"
  }
 },
 "nbformat": 4,
 "nbformat_minor": 2
}
